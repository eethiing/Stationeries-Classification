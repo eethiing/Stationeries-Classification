{
 "cells": [
  {
   "attachments": {},
   "cell_type": "markdown",
   "metadata": {},
   "source": [
    "### Download Libraries"
   ]
  },
  {
   "cell_type": "code",
   "execution_count": null,
   "metadata": {},
   "outputs": [],
   "source": [
    "# to split data into training,testing and validation set\n",
    "!pip install split-folders"
   ]
  },
  {
   "cell_type": "code",
   "execution_count": null,
   "metadata": {},
   "outputs": [],
   "source": [
    "pip install -U albumentations"
   ]
  },
  {
   "cell_type": "code",
   "execution_count": null,
   "metadata": {},
   "outputs": [],
   "source": [
    "pip install image-dataset-loader"
   ]
  },
  {
   "attachments": {},
   "cell_type": "markdown",
   "metadata": {},
   "source": [
    "### Split Folders"
   ]
  },
  {
   "cell_type": "code",
   "execution_count": 21,
   "metadata": {},
   "outputs": [],
   "source": [
    "# split folders according to class to train, test and valdation set\n",
    "import tensorflow as tf\n",
    "import splitfolders\n",
    "\n",
    "splitfolders.ratio(r'D:\\Year3\\Computer Intelligence\\Project\\Dataset', \n",
    "                    r'D:\\Year3\\Computer Intelligence\\Project\\split_data_80', \n",
    "                    seed=1337, \n",
    "                    ratio=(.8,.1,.1),\n",
    "                    group_prefix=None,\n",
    "                    move=False)"
   ]
  },
  {
   "attachments": {},
   "cell_type": "markdown",
   "metadata": {},
   "source": [
    "### Preprocessing "
   ]
  },
  {
   "cell_type": "code",
   "execution_count": 1,
   "metadata": {},
   "outputs": [],
   "source": [
    "import numpy as np\n",
    "import pandas as pd\n",
    "import cv2\n",
    "import os \n",
    "from PIL import Image\n",
    "import random\n",
    "import skimage\n",
    "import glob\n",
    "import matplotlib. pyplot as plt\n",
    "import imghdr\n",
    "\n",
    "import tensorflow as tf\n",
    "from tensorflow import keras"
   ]
  },
  {
   "attachments": {},
   "cell_type": "markdown",
   "metadata": {},
   "source": [
    "Train Set"
   ]
  },
  {
   "cell_type": "code",
   "execution_count": 4,
   "metadata": {},
   "outputs": [],
   "source": [
    "# Preprocessing for train set\n",
    "folders_dir = glob.glob(r'D:\\Year3\\Computer Intelligence\\Project\\split_data_80\\train\\*')\n",
    "img_list = []\n",
    "for folder in folders_dir:\n",
    "    for f in glob.glob(folder+'/*'):\n",
    "        img_list.append(f)"
   ]
  },
  {
   "cell_type": "code",
   "execution_count": 5,
   "metadata": {},
   "outputs": [
    {
     "data": {
      "text/plain": [
       "3500"
      ]
     },
     "execution_count": 5,
     "metadata": {},
     "output_type": "execute_result"
    }
   ],
   "source": [
    "# check the total images in training set\n",
    "len(img_list)\n"
   ]
  },
  {
   "attachments": {},
   "cell_type": "markdown",
   "metadata": {},
   "source": [
    "Data Resizing"
   ]
  },
  {
   "cell_type": "code",
   "execution_count": null,
   "metadata": {},
   "outputs": [],
   "source": [
    "# resizing images \n",
    "for i in img_list :\n",
    "    img = Image.open(i).convert('L')\n",
    "    resized = img.resize((64,48))\n",
    "    resized.save(i)"
   ]
  },
  {
   "attachments": {},
   "cell_type": "markdown",
   "metadata": {},
   "source": [
    "Data Augmentation - used for experiment only, Proposed Architecture not using"
   ]
  },
  {
   "cell_type": "code",
   "execution_count": 6,
   "metadata": {},
   "outputs": [],
   "source": [
    "import albumentations as A\n",
    "from PIL import Image\n",
    "import numpy as np\n",
    "\n",
    "# Create a pipline with 4 different transformations. \n",
    "def augmentation(dir):\n",
    "    transform = A.Compose(\n",
    "        [\n",
    "            #A.RandomCrop(width=256, height=256),\n",
    "            A.HorizontalFlip(p=0.3),\n",
    "            #A.Blur(p=0.3, blur_limit=3),\n",
    "            #A.GaussNoise(p=0.5),\n",
    "            A.RandomBrightnessContrast(brightness_limit=.5, contrast_limit=.2),\n",
    "            A.Rotate(p=0.8),\n",
    "        ]\n",
    "    )\n",
    "    \n",
    "    img_list = []\n",
    "    for f in glob.glob(dir + '*'):\n",
    "        img_list.append(f)\n",
    "\n",
    "    print('Total Number of Images : ', len(img_list))\n",
    "\n",
    "    k = 1\n",
    "    for i in img_list :\n",
    "        # Read the image and convert it to a numpy array\n",
    "        img = Image.open(i)\n",
    "        image = np.array(img)\n",
    "        transformed = transform(image=image)\n",
    "        # Access and show transformation\n",
    "        transformed_image = transformed[\"image\"]\n",
    "        img = Image.fromarray(transformed_image)\n",
    "        name = str(k)\n",
    "        img.save(dir + name + '.jpg')\n",
    "        k = k + 1\n"
   ]
  },
  {
   "cell_type": "code",
   "execution_count": null,
   "metadata": {},
   "outputs": [],
   "source": [
    "#notebook\n",
    "augmentation('D:/Year3/Computer Intelligence/Project/split_data_new/train/Notebook/')\n",
    "#eraser\n",
    "augmentation('D:/Year3/Computer Intelligence/Project/split_data_new/train/Eraser/')\n",
    "#pen\n",
    "augmentation('D:/Year3/Computer Intelligence/Project/split_data_new/train/Pen/')\n",
    "#scissors\n",
    "augmentation('D:/Year3/Computer Intelligence/Project/split_data_new/train/Scissors/')\n",
    "#tape\n",
    "augmentation('D:/Year3/Computer Intelligence/Project/split_data_new/train/Tape/')"
   ]
  },
  {
   "attachments": {},
   "cell_type": "markdown",
   "metadata": {},
   "source": [
    "Test Set"
   ]
  },
  {
   "cell_type": "code",
   "execution_count": 26,
   "metadata": {},
   "outputs": [],
   "source": [
    "# Preprocessing for test set\n",
    "folders_dir = glob.glob(r'D:\\Year3\\Computer Intelligence\\Project\\split_data_80\\test\\*')\n",
    "img_list = []\n",
    "for folder in folders_dir:\n",
    "    for f in glob.glob(folder+'/*'):\n",
    "        img_list.append(f)"
   ]
  },
  {
   "cell_type": "code",
   "execution_count": 27,
   "metadata": {},
   "outputs": [
    {
     "data": {
      "text/plain": [
       "500"
      ]
     },
     "execution_count": 27,
     "metadata": {},
     "output_type": "execute_result"
    }
   ],
   "source": [
    "len(img_list)"
   ]
  },
  {
   "cell_type": "code",
   "execution_count": 28,
   "metadata": {},
   "outputs": [],
   "source": [
    "for i in img_list :\n",
    "    img = Image.open(i).convert('L')\n",
    "    resized = img.resize((64,48))\n",
    "    resized.save(i)"
   ]
  },
  {
   "attachments": {},
   "cell_type": "markdown",
   "metadata": {},
   "source": [
    "Validation Set"
   ]
  },
  {
   "cell_type": "code",
   "execution_count": 29,
   "metadata": {},
   "outputs": [],
   "source": [
    "# Preprocessing for test set\n",
    "folders_dir = glob.glob(r'D:\\Year3\\Computer Intelligence\\Project\\split_data_80\\val\\*')\n",
    "img_list = []\n",
    "for folder in folders_dir:\n",
    "    for f in glob.glob(folder+'/*'):\n",
    "        img_list.append(f)"
   ]
  },
  {
   "cell_type": "code",
   "execution_count": 30,
   "metadata": {},
   "outputs": [
    {
     "data": {
      "text/plain": [
       "500"
      ]
     },
     "execution_count": 30,
     "metadata": {},
     "output_type": "execute_result"
    }
   ],
   "source": [
    "len(img_list)"
   ]
  },
  {
   "cell_type": "code",
   "execution_count": 31,
   "metadata": {},
   "outputs": [],
   "source": [
    "for i in img_list :\n",
    "    img = Image.open(i).convert('L')\n",
    "    resized = img.resize((64,48))\n",
    "    resized.save(i)"
   ]
  },
  {
   "attachments": {},
   "cell_type": "markdown",
   "metadata": {},
   "source": [
    "### Convert dataset to numpy\n",
    "\n",
    "To read and load easily in the models"
   ]
  },
  {
   "cell_type": "code",
   "execution_count": 3,
   "metadata": {},
   "outputs": [],
   "source": [
    "import image_dataset_loader\n",
    "from numpy import save"
   ]
  },
  {
   "attachments": {},
   "cell_type": "markdown",
   "metadata": {},
   "source": [
    "Train"
   ]
  },
  {
   "cell_type": "code",
   "execution_count": 5,
   "metadata": {},
   "outputs": [],
   "source": [
    "(X_train, y_train), = image_dataset_loader.load('D:/Year3/Computer Intelligence/Project/CNN/split_data_80', ['train'])"
   ]
  },
  {
   "cell_type": "code",
   "execution_count": 6,
   "metadata": {},
   "outputs": [
    {
     "data": {
      "text/plain": [
       "(4000, 48, 64)"
      ]
     },
     "execution_count": 6,
     "metadata": {},
     "output_type": "execute_result"
    }
   ],
   "source": [
    "X_train.shape\n",
    "# (no.of images, rows, cols)"
   ]
  },
  {
   "cell_type": "code",
   "execution_count": 7,
   "metadata": {},
   "outputs": [
    {
     "data": {
      "text/plain": [
       "(4000,)"
      ]
     },
     "execution_count": 7,
     "metadata": {},
     "output_type": "execute_result"
    }
   ],
   "source": [
    "y_train.shape"
   ]
  },
  {
   "cell_type": "code",
   "execution_count": 8,
   "metadata": {},
   "outputs": [
    {
     "data": {
      "text/plain": [
       "array([3, 0, 0, ..., 0, 0, 2], dtype=uint32)"
      ]
     },
     "execution_count": 8,
     "metadata": {},
     "output_type": "execute_result"
    }
   ],
   "source": [
    "y_train"
   ]
  },
  {
   "cell_type": "code",
   "execution_count": 43,
   "metadata": {},
   "outputs": [],
   "source": [
    "save(r'D:\\Year3\\Computer Intelligence\\Project\\X_train_80.npy', X_train)\n",
    "save(r'D:\\Year3\\Computer Intelligence\\Project\\y_train_80.npy', y_train)"
   ]
  },
  {
   "attachments": {},
   "cell_type": "markdown",
   "metadata": {},
   "source": [
    "Test"
   ]
  },
  {
   "cell_type": "code",
   "execution_count": 9,
   "metadata": {},
   "outputs": [],
   "source": [
    "(X_test, y_test), = image_dataset_loader.load('D:/Year3/Computer Intelligence/Project/CNN/split_data_80', ['test'])"
   ]
  },
  {
   "cell_type": "code",
   "execution_count": 10,
   "metadata": {},
   "outputs": [
    {
     "data": {
      "text/plain": [
       "(500, 48, 64)"
      ]
     },
     "execution_count": 10,
     "metadata": {},
     "output_type": "execute_result"
    }
   ],
   "source": [
    "X_test.shape"
   ]
  },
  {
   "cell_type": "code",
   "execution_count": 11,
   "metadata": {},
   "outputs": [
    {
     "data": {
      "text/plain": [
       "(500,)"
      ]
     },
     "execution_count": 11,
     "metadata": {},
     "output_type": "execute_result"
    }
   ],
   "source": [
    "y_test.shape"
   ]
  },
  {
   "cell_type": "code",
   "execution_count": 45,
   "metadata": {},
   "outputs": [],
   "source": [
    "save(r'D:\\Year3\\Computer Intelligence\\Project\\X_test_80.npy', X_test)\n",
    "save(r'D:\\Year3\\Computer Intelligence\\Project\\y_test_80.npy', y_test)"
   ]
  },
  {
   "attachments": {},
   "cell_type": "markdown",
   "metadata": {},
   "source": [
    "Validation"
   ]
  },
  {
   "cell_type": "code",
   "execution_count": 12,
   "metadata": {},
   "outputs": [],
   "source": [
    "(X_val, y_val), = image_dataset_loader.load('D:/Year3/Computer Intelligence/Project/CNN/split_data_80', ['val'])"
   ]
  },
  {
   "cell_type": "code",
   "execution_count": 13,
   "metadata": {},
   "outputs": [
    {
     "data": {
      "text/plain": [
       "(500, 48, 64)"
      ]
     },
     "execution_count": 13,
     "metadata": {},
     "output_type": "execute_result"
    }
   ],
   "source": [
    "X_val.shape"
   ]
  },
  {
   "cell_type": "code",
   "execution_count": 14,
   "metadata": {},
   "outputs": [
    {
     "data": {
      "text/plain": [
       "(500,)"
      ]
     },
     "execution_count": 14,
     "metadata": {},
     "output_type": "execute_result"
    }
   ],
   "source": [
    "y_val.shape"
   ]
  },
  {
   "cell_type": "code",
   "execution_count": 47,
   "metadata": {},
   "outputs": [],
   "source": [
    "save(r'D:\\Year3\\Computer Intelligence\\Project\\X_val_80.npy', X_val)\n",
    "save(r'D:\\Year3\\Computer Intelligence\\Project\\y_val_80.npy', y_val)"
   ]
  },
  {
   "cell_type": "code",
   "execution_count": null,
   "metadata": {},
   "outputs": [],
   "source": []
  }
 ],
 "metadata": {
  "kernelspec": {
   "display_name": "tf-gpu-cuda8",
   "language": "python",
   "name": "python3"
  },
  "language_info": {
   "codemirror_mode": {
    "name": "ipython",
    "version": 3
   },
   "file_extension": ".py",
   "mimetype": "text/x-python",
   "name": "python",
   "nbconvert_exporter": "python",
   "pygments_lexer": "ipython3",
   "version": "3.8.15 (default, Nov 24 2022, 14:38:14) [MSC v.1916 64 bit (AMD64)]"
  },
  "orig_nbformat": 4,
  "vscode": {
   "interpreter": {
    "hash": "a319e73244d08989e8c00f5ceb518fe779e3b3efa04d1451bed3b5fa90afd0cb"
   }
  }
 },
 "nbformat": 4,
 "nbformat_minor": 2
}
